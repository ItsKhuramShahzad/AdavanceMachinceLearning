{
 "cells": [
  {
   "cell_type": "markdown",
   "id": "40d8bd18",
   "metadata": {},
   "source": [
    "# Machine Learning Assignment No: 3 (Classification)."
   ]
  },
  {
   "cell_type": "markdown",
   "id": "d4584e30",
   "metadata": {},
   "source": [
    "# Name: Khuram Shahzad, Roll No: p218742"
   ]
  },
  {
   "cell_type": "markdown",
   "id": "5f8e9eab",
   "metadata": {},
   "source": [
    "# Importing  Libraries"
   ]
  },
  {
   "cell_type": "code",
   "execution_count": 1,
   "id": "2e371b8b",
   "metadata": {},
   "outputs": [],
   "source": [
    "import pandas as pd\n",
    "import numpy as np\n",
    "import matplotlib.pyplot as plt\n",
    "from sklearn.metrics import classification_report, confusion_matrix#for visualizing tree \n",
    "from sklearn.tree import plot_tree\n",
    "from sklearn.metrics import precision_recall_curve, f1_score\n",
    "from sklearn.model_selection import KFold\n",
    "from statistics import mean, stdev\n",
    "from sklearn import datasets\n",
    "from sklearn.metrics import confusion_matrix, roc_auc_score ,roc_curve,auc\n",
    "import seaborn as sns\n",
    "from sklearn import metrics\n",
    "from sklearn.tree import DecisionTreeClassifier#for checking testing results\n",
    "from sklearn.linear_model import LogisticRegression\n",
    "from sklearn.naive_bayes import GaussianNB\n",
    "from sklearn.ensemble import AdaBoostClassifier\n",
    "from sklearn.neighbors import KNeighborsClassifier"
   ]
  },
  {
   "cell_type": "markdown",
   "id": "03cced9d",
   "metadata": {},
   "source": [
    "# Importing the Data"
   ]
  },
  {
   "cell_type": "code",
   "execution_count": 2,
   "id": "0ba5a30d",
   "metadata": {},
   "outputs": [],
   "source": [
    "def load_data():\n",
    "    '''\n",
    "    Loading the data for this file into a pandas DataFrame.\n",
    "    '''\n",
    "    xls = pd.ExcelFile('adultData.xlsx')\n",
    "    dftraining = pd.read_excel(xls, 'training')\n",
    "    dftesting = pd.read_excel(xls, 'testing')\n",
    "#     table = pd.read_excel(xls, 'table')\n",
    "    # Return the entire frame\n",
    "    return dftraining, dftesting"
   ]
  },
  {
   "cell_type": "markdown",
   "id": "e3ca30da",
   "metadata": {},
   "source": [
    "# Data Preprocessing"
   ]
  },
  {
   "cell_type": "markdown",
   "id": "26f6cf11",
   "metadata": {},
   "source": [
    "n"
   ]
  },
  {
   "cell_type": "code",
   "execution_count": 3,
   "id": "8e893de3",
   "metadata": {},
   "outputs": [],
   "source": [
    "def DataPreprocessing(dataFrame):\n",
    "    df = dataFrame.drop(['workclass','income','education','marital-status','occupation','relationship','race','sex','native-country'], axis =1)\n",
    "    target = df['income_target']\n",
    "    training = df.copy()\n",
    "    \n",
    "    training = training.drop('income_target', axis =1)\n",
    "    # Defining the attributes\n",
    "    X = np.delete(training.to_numpy(), (0), axis=0) \n",
    "    y = np.delete(target.to_numpy(), (0), axis=0) \n",
    "    y=y.astype(int)\n",
    "    return X, y"
   ]
  },
  {
   "cell_type": "markdown",
   "id": "02bb88f7",
   "metadata": {},
   "source": [
    "# Training and Testing"
   ]
  },
  {
   "cell_type": "markdown",
   "id": "d4843c27",
   "metadata": {},
   "source": [
    "Stratified 5-Fold cross-validation (the dataset is imbalanced)"
   ]
  },
  {
   "cell_type": "code",
   "execution_count": 25,
   "id": "3d376e06",
   "metadata": {},
   "outputs": [],
   "source": [
    "def ApplyClassifier(model, train_X, train_y, test_X, test_y):\n",
    "    \n",
    "    model_name = type(model).__name__\n",
    "    kfold = KFold(n_splits=5, shuffle=True, random_state=1)\n",
    "    model_accu_stratified = []\n",
    "    cv_score =[]\n",
    "    i=1\n",
    "    \n",
    "    print('-----------------------------------------------------------------------------------------')\n",
    "    print('Classifier Name: ', model_name)\n",
    "    print('-----------------------------------------------------------------------------------------')\n",
    "      \n",
    "        # summarize train and test composition\n",
    "    train_1, train_2 = len(train_y[train_y==0]), len(train_y[train_y==1])\n",
    "    test_1, test_2 = len(test_y[test_y==0]), len(test_y[test_y==1])\n",
    "\n",
    "    print('           >Train: <=50k =%d, >50k =%d, Test:  <=50k =%d, >50k =%d' % (train_1, train_2, test_1, test_2))\n",
    "    model.fit(train_X, train_y)\n",
    "#     try:\n",
    "    score = roc_auc_score(test_y, model.predict(test_X))\n",
    "#     except ValueError:\n",
    "#     pass\n",
    "    \n",
    "    print('           ROC AUC score:',score)\n",
    "    cv_score.append(score)\n",
    "    model_accu_stratified.append(model.score(test_X, test_y))    \n",
    "    print('-----------------------------------------------------------------------------------------')\n",
    "#     call to evaluations\n",
    "    Evaluation(model, model_accu_stratified,cv_score,test_X, test_y, model_name )"
   ]
  },
  {
   "cell_type": "markdown",
   "id": "79af4d3e",
   "metadata": {},
   "source": [
    "# Evaluation"
   ]
  },
  {
   "cell_type": "code",
   "execution_count": 28,
   "id": "32ed75f0",
   "metadata": {},
   "outputs": [],
   "source": [
    "def Evaluation(model, model_accu_stratified,cv_score, test_X, test_y, classifireName):\n",
    "\n",
    "    print('Possible accuracy are :',(round(model_accu_stratified[0], 5)) )\n",
    "    print('\\nMaximum Accuracy That can be obtained from this model is:',\n",
    "          max(model_accu_stratified)*100, '%')\n",
    "    print('\\nMinimum Accuracy:',\n",
    "          min(model_accu_stratified)*100, '%')\n",
    "    print('\\nOverall(Mean) Accuracy:',\n",
    "          mean(model_accu_stratified)*100, '%')\n",
    "#     print('\\nStandard Deviation is:', stdev(model_accu_stratified))\n",
    "    print('-----------------------------------------------------------------------------------------')\n",
    "    print('Cv: ',cv_score,'\\nMean cv Score :',np.mean(cv_score))\n",
    "    print('-----------------------------------------------------------------------------------------')\n",
    "    print(\"\\n            Confusion Matrix on tested data\\n\")\n",
    "    \n",
    "    \n",
    "    cm =confusion_matrix(test_y,model.predict(test_X))\n",
    "    print('-----------------------------------------------------------------------------------------')\n",
    "    tp, fn, fp, tn =confusion_matrix(test_y,model.predict(test_X)).reshape(-1)\n",
    "\n",
    "    # classification report for precision, recall f1-score and accuracy\n",
    "    matrix = classification_report(test_y, model.predict(test_X))\n",
    "    print('Classification report : \\n',matrix)\n",
    "    print('-----------------------------------------------------------------------------------------')\n",
    "\n",
    "    plt.figure(figsize=(9,9))\n",
    "    sns.heatmap(cm, annot=True, fmt=\".3f\", linewidths=.5, square = True, cmap = 'Blues_r');\n",
    "    plt.ylabel('Actual label');\n",
    "    plt.xlabel('Predicted label');\n",
    "    all_sample_title = 'Accuracy Score is  {0} of {1}'.format(round(np.mean(cv_score),2), classifireName )\n",
    "    plt.title(all_sample_title, size = 15);"
   ]
  },
  {
   "cell_type": "markdown",
   "id": "4954c4ad",
   "metadata": {},
   "source": [
    "# ---------------------------------------Driver Class----------------------------------"
   ]
  },
  {
   "cell_type": "code",
   "execution_count": 20,
   "id": "d9579aea",
   "metadata": {},
   "outputs": [],
   "source": [
    "# read data\n",
    "df1, df2= load_data()\n",
    "#ExploratoryDataAnalysis(0)"
   ]
  },
  {
   "cell_type": "code",
   "execution_count": null,
   "id": "1575b5f0",
   "metadata": {},
   "outputs": [],
   "source": []
  },
  {
   "cell_type": "code",
   "execution_count": 29,
   "id": "463dd337",
   "metadata": {},
   "outputs": [],
   "source": [
    "# DataPreprocessing\n",
    "train_X, train_y =DataPreprocessing(df1)\n",
    "test_X, test_y =DataPreprocessing(df2)"
   ]
  },
  {
   "cell_type": "code",
   "execution_count": null,
   "id": "a480bd85",
   "metadata": {},
   "outputs": [],
   "source": [
    "len(np.array)"
   ]
  },
  {
   "cell_type": "markdown",
   "id": "c12a7670",
   "metadata": {},
   "source": [
    "# 1. Decision Tree Classifier"
   ]
  },
  {
   "cell_type": "code",
   "execution_count": 31,
   "id": "f7229a61",
   "metadata": {},
   "outputs": [
    {
     "name": "stdout",
     "output_type": "stream",
     "text": [
      "-----------------------------------------------------------------------------------------\n",
      "Classifier Name:  DecisionTreeClassifier\n",
      "-----------------------------------------------------------------------------------------\n",
      "           >Train: <=50k =24719, >50k =7841, Test:  <=50k =12434, >50k =3846\n",
      "           ROC AUC score: 0.6918850825128388\n",
      "-----------------------------------------------------------------------------------------\n",
      "Possible accuracy are : 0.76732\n",
      "\n",
      "Maximum Accuracy That can be obtained from this model is: 76.73218673218673 %\n",
      "\n",
      "Minimum Accuracy: 76.73218673218673 %\n",
      "\n",
      "Overall(Mean) Accuracy: 76.73218673218673 %\n",
      "-----------------------------------------------------------------------------------------\n",
      "Cv:  [0.6918850825128388] \n",
      "Mean cv Score : 0.6918850825128388\n",
      "-----------------------------------------------------------------------------------------\n",
      "\n",
      "            Confusion Matrix on tested data\n",
      "\n",
      "-----------------------------------------------------------------------------------------\n",
      "Classification report : \n",
      "               precision    recall  f1-score   support\n",
      "\n",
      "           0       0.86      0.83      0.85     12434\n",
      "           1       0.51      0.55      0.53      3846\n",
      "\n",
      "    accuracy                           0.77     16280\n",
      "   macro avg       0.68      0.69      0.69     16280\n",
      "weighted avg       0.77      0.77      0.77     16280\n",
      "\n",
      "-----------------------------------------------------------------------------------------\n"
     ]
    },
    {
     "data": {
      "image/png": "[encoded data removed]",
      "text/plain": [
       "<Figure size 648x648 with 2 Axes>"
      ]
     },
     "metadata": {
      "needs_background": "light"
     },
     "output_type": "display_data"
    }
   ],
   "source": [
    "# Create  classifier object.\n",
    "dtree = DecisionTreeClassifier()\n",
    "ApplyClassifier(dtree, train_X, train_y, test_X, test_y)"
   ]
  },
  {
   "cell_type": "markdown",
   "id": "f3534c05",
   "metadata": {},
   "source": [
    "Visualizing the decision tree"
   ]
  },
  {
   "cell_type": "code",
   "execution_count": null,
   "id": "9432d6c8",
   "metadata": {},
   "outputs": [],
   "source": [
    "# Visualising the graph without the use of graphvizplt.figure(figsize = (20,20))\n",
    "dec_tree = plot_tree(decision_tree=dtree, feature_names = df1.columns,\n",
    "                     class_names =[\"1\", \"2\"] , filled = True , precision = 3, rounded = True)"
   ]
  },
  {
   "cell_type": "markdown",
   "id": "782c48db",
   "metadata": {},
   "source": [
    "# 2. KNeighbors Classifier"
   ]
  },
  {
   "cell_type": "code",
   "execution_count": 32,
   "id": "50c18512",
   "metadata": {},
   "outputs": [
    {
     "name": "stdout",
     "output_type": "stream",
     "text": [
      "-----------------------------------------------------------------------------------------\n",
      "Classifier Name:  KNeighborsClassifier\n",
      "-----------------------------------------------------------------------------------------\n",
      "           >Train: <=50k =24719, >50k =7841, Test:  <=50k =12434, >50k =3846\n",
      "           ROC AUC score: 0.6020950054666173\n",
      "-----------------------------------------------------------------------------------------\n",
      "Possible accuracy are : 0.80614\n",
      "\n",
      "Maximum Accuracy That can be obtained from this model is: 80.61425061425062 %\n",
      "\n",
      "Minimum Accuracy: 80.61425061425062 %\n",
      "\n",
      "Overall(Mean) Accuracy: 80.61425061425062 %\n",
      "-----------------------------------------------------------------------------------------\n",
      "Cv:  [0.6020950054666173] \n",
      "Mean cv Score : 0.6020950054666173\n",
      "-----------------------------------------------------------------------------------------\n",
      "\n",
      "            Confusion Matrix on tested data\n",
      "\n",
      "-----------------------------------------------------------------------------------------\n",
      "Classification report : \n",
      "               precision    recall  f1-score   support\n",
      "\n",
      "           0       0.80      0.99      0.89     12434\n",
      "           1       0.86      0.22      0.34      3846\n",
      "\n",
      "    accuracy                           0.81     16280\n",
      "   macro avg       0.83      0.60      0.62     16280\n",
      "weighted avg       0.82      0.81      0.76     16280\n",
      "\n",
      "-----------------------------------------------------------------------------------------\n"
     ]
    },
    {
     "data": {
      "image/png": "[encoded data removed]",
      "text/plain": [
       "<Figure size 648x648 with 2 Axes>"
      ]
     },
     "metadata": {
      "needs_background": "light"
     },
     "output_type": "display_data"
    }
   ],
   "source": [
    "# Create  classifier object.\n",
    "k = KNeighborsClassifier()\n",
    "ApplyClassifier(k, train_X, train_y, test_X, test_y)"
   ]
  },
  {
   "cell_type": "markdown",
   "id": "e76286d0",
   "metadata": {},
   "source": [
    "# 3. AdaBoostClassifier"
   ]
  },
  {
   "cell_type": "code",
   "execution_count": 33,
   "id": "d63b48fb",
   "metadata": {},
   "outputs": [
    {
     "name": "stdout",
     "output_type": "stream",
     "text": [
      "-----------------------------------------------------------------------------------------\n",
      "Classifier Name:  AdaBoostClassifier\n",
      "-----------------------------------------------------------------------------------------\n",
      "           >Train: <=50k =24719, >50k =7841, Test:  <=50k =12434, >50k =3846\n",
      "           ROC AUC score: 0.6874762605109319\n",
      "-----------------------------------------------------------------------------------------\n",
      "Possible accuracy are : 0.83397\n",
      "\n",
      "Maximum Accuracy That can be obtained from this model is: 83.39680589680589 %\n",
      "\n",
      "Minimum Accuracy: 83.39680589680589 %\n",
      "\n",
      "Overall(Mean) Accuracy: 83.39680589680589 %\n",
      "-----------------------------------------------------------------------------------------\n",
      "Cv:  [0.6874762605109319] \n",
      "Mean cv Score : 0.6874762605109319\n",
      "-----------------------------------------------------------------------------------------\n",
      "\n",
      "            Confusion Matrix on tested data\n",
      "\n",
      "-----------------------------------------------------------------------------------------\n",
      "Classification report : \n",
      "               precision    recall  f1-score   support\n",
      "\n",
      "           0       0.84      0.97      0.90     12434\n",
      "           1       0.78      0.41      0.54      3846\n",
      "\n",
      "    accuracy                           0.83     16280\n",
      "   macro avg       0.81      0.69      0.72     16280\n",
      "weighted avg       0.83      0.83      0.81     16280\n",
      "\n",
      "-----------------------------------------------------------------------------------------\n"
     ]
    },
    {
     "data": {
      "image/png": "[encoded data removed]",
      "text/plain": [
       "<Figure size 648x648 with 2 Axes>"
      ]
     },
     "metadata": {
      "needs_background": "light"
     },
     "output_type": "display_data"
    }
   ],
   "source": [
    "# Create  classifier object.\n",
    "Ada = AdaBoostClassifier(n_estimators=50, learning_rate=1.0, algorithm='SAMME.R')\n",
    "ApplyClassifier(Ada, train_X, train_y, test_X, test_y)"
   ]
  },
  {
   "cell_type": "markdown",
   "id": "eaa14be6",
   "metadata": {},
   "source": [
    "# 4. LogisticRegression"
   ]
  },
  {
   "cell_type": "code",
   "execution_count": 34,
   "id": "ee34106f",
   "metadata": {},
   "outputs": [
    {
     "name": "stdout",
     "output_type": "stream",
     "text": [
      "-----------------------------------------------------------------------------------------\n",
      "Classifier Name:  LogisticRegression\n",
      "-----------------------------------------------------------------------------------------\n",
      "           >Train: <=50k =24719, >50k =7841, Test:  <=50k =12434, >50k =3846\n"
     ]
    },
    {
     "name": "stderr",
     "output_type": "stream",
     "text": [
      "C:\\ProgramData\\Anaconda3\\lib\\site-packages\\sklearn\\linear_model\\_logistic.py:763: ConvergenceWarning: lbfgs failed to converge (status=1):\n",
      "STOP: TOTAL NO. of ITERATIONS REACHED LIMIT.\n",
      "\n",
      "Increase the number of iterations (max_iter) or scale the data as shown in:\n",
      "    https://scikit-learn.org/stable/modules/preprocessing.html\n",
      "Please also refer to the documentation for alternative solver options:\n",
      "    https://scikit-learn.org/stable/modules/linear_model.html#logistic-regression\n",
      "  n_iter_i = _check_optimize_result(\n"
     ]
    },
    {
     "name": "stdout",
     "output_type": "stream",
     "text": [
      "           ROC AUC score: 0.5841668345839511\n",
      "-----------------------------------------------------------------------------------------\n",
      "Possible accuracy are : 0.80221\n",
      "\n",
      "Maximum Accuracy That can be obtained from this model is: 80.22113022113022 %\n",
      "\n",
      "Minimum Accuracy: 80.22113022113022 %\n",
      "\n",
      "Overall(Mean) Accuracy: 80.22113022113022 %\n",
      "-----------------------------------------------------------------------------------------\n",
      "Cv:  [0.5841668345839511] \n",
      "Mean cv Score : 0.5841668345839511\n",
      "-----------------------------------------------------------------------------------------\n",
      "\n",
      "            Confusion Matrix on tested data\n",
      "\n",
      "-----------------------------------------------------------------------------------------\n",
      "Classification report : \n",
      "               precision    recall  f1-score   support\n",
      "\n",
      "           0       0.80      1.00      0.89     12434\n",
      "           1       0.95      0.17      0.29      3846\n",
      "\n",
      "    accuracy                           0.80     16280\n",
      "   macro avg       0.88      0.58      0.59     16280\n",
      "weighted avg       0.83      0.80      0.74     16280\n",
      "\n",
      "-----------------------------------------------------------------------------------------\n"
     ]
    },
    {
     "data": {
      "image/png": "[encoded data removed]",
      "text/plain": [
       "<Figure size 648x648 with 2 Axes>"
      ]
     },
     "metadata": {
      "needs_background": "light"
     },
     "output_type": "display_data"
    }
   ],
   "source": [
    "# Create  classifier object.\n",
    "lr = LogisticRegression()\n",
    "ApplyClassifier(lr, train_X, train_y, test_X, test_y)"
   ]
  },
  {
   "cell_type": "markdown",
   "id": "32ca5e89",
   "metadata": {},
   "source": [
    "# 5. Naive Bayes Classification"
   ]
  },
  {
   "cell_type": "code",
   "execution_count": 35,
   "id": "c64b3df4",
   "metadata": {},
   "outputs": [
    {
     "name": "stdout",
     "output_type": "stream",
     "text": [
      "-----------------------------------------------------------------------------------------\n",
      "Classifier Name:  GaussianNB\n",
      "-----------------------------------------------------------------------------------------\n",
      "           >Train: <=50k =24719, >50k =7841, Test:  <=50k =12434, >50k =3846\n",
      "           ROC AUC score: 0.6266395774055186\n",
      "-----------------------------------------------------------------------------------------\n",
      "Possible accuracy are : 0.79631\n",
      "\n",
      "Maximum Accuracy That can be obtained from this model is: 79.63144963144964 %\n",
      "\n",
      "Minimum Accuracy: 79.63144963144964 %\n",
      "\n",
      "Overall(Mean) Accuracy: 79.63144963144964 %\n",
      "-----------------------------------------------------------------------------------------\n",
      "Cv:  [0.6266395774055186] \n",
      "Mean cv Score : 0.6266395774055186\n",
      "-----------------------------------------------------------------------------------------\n",
      "\n",
      "            Confusion Matrix on tested data\n",
      "\n",
      "-----------------------------------------------------------------------------------------\n",
      "Classification report : \n",
      "               precision    recall  f1-score   support\n",
      "\n",
      "           0       0.82      0.95      0.88     12434\n",
      "           1       0.65      0.30      0.41      3846\n",
      "\n",
      "    accuracy                           0.80     16280\n",
      "   macro avg       0.73      0.63      0.65     16280\n",
      "weighted avg       0.78      0.80      0.77     16280\n",
      "\n",
      "-----------------------------------------------------------------------------------------\n"
     ]
    },
    {
     "data": {
      "image/png": "[encoded data removed]",
      "text/plain": [
       "<Figure size 648x648 with 2 Axes>"
      ]
     },
     "metadata": {
      "needs_background": "light"
     },
     "output_type": "display_data"
    }
   ],
   "source": [
    "# Create  classifier object.\n",
    "nBayes = GaussianNB()\n",
    "ApplyClassifier(nBayes, train_X, train_y, test_X, test_y)"
   ]
  },
  {
   "cell_type": "code",
   "execution_count": null,
   "id": "eb6e4f54",
   "metadata": {},
   "outputs": [],
   "source": []
  }
 ],
 "metadata": {
  "kernelspec": {
   "display_name": "Python 3 (ipykernel)",
   "language": "python",
   "name": "python3"
  },
  "language_info": {
   "codemirror_mode": {
    "name": "ipython",
    "version": 3
   },
   "file_extension": ".py",
   "mimetype": "text/x-python",
   "name": "python",
   "nbconvert_exporter": "python",
   "pygments_lexer": "ipython3",
   "version": "3.9.7"
  }
 },
 "nbformat": 4,
 "nbformat_minor": 5
}
